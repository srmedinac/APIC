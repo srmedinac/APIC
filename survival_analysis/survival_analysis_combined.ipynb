{
 "cells": [
  {
   "cell_type": "code",
   "execution_count": null,
   "metadata": {},
   "outputs": [],
   "source": [
    "# Standard library imports\n",
    "import os\n",
    "import random\n",
    "import warnings\n",
    "\n",
    "# Third-party library imports for data manipulation\n",
    "import numpy as np\n",
    "import pandas as pd\n",
    "\n",
    "# Visualization libraries\n",
    "import matplotlib.pyplot as plt\n",
    "import seaborn as sns\n",
    "import ptitprince as pt\n",
    "import umap\n",
    "\n",
    "# Machine Learning and statistical testing libraries\n",
    "from scipy.stats import mannwhitneyu, f_oneway\n",
    "from sklearn.ensemble import RandomForestClassifier\n",
    "from sklearn.exceptions import FitFailedWarning\n",
    "from sklearn.feature_selection import VarianceThreshold\n",
    "from sklearn.impute import SimpleImputer\n",
    "from sklearn.model_selection import train_test_split, GridSearchCV, KFold\n",
    "from sklearn.pipeline import make_pipeline\n",
    "from sklearn.preprocessing import MinMaxScaler, RobustScaler\n",
    "\n",
    "# Survival analysis libraries\n",
    "import sksurv\n",
    "from sksurv.compare import compare_survival\n",
    "from sksurv.linear_model import CoxPHSurvivalAnalysis, CoxnetSurvivalAnalysis\n",
    "from sksurv.metrics import concordance_index_censored, concordance_index_ipcw, integrated_brier_score\n",
    "from sksurv.nonparametric import kaplan_meier_estimator\n",
    "from sksurv.util import Surv\n",
    "\n",
    "# Feature selection libraries\n",
    "from boruta import BorutaPy\n",
    "from lifelines import CoxPHFitter\n",
    "# Lifelines for additional survival analysis\n",
    "from lifelines.statistics import logrank_test, multivariate_logrank_test\n",
    "from tqdm import tqdm\n",
    "from lifelines import KaplanMeierFitter\n",
    "from lifelines.plotting import add_at_risk_counts\n",
    "import seaborn as sns\n",
    "import umap\n",
    "from dcurves import dca, plot_graphs"
   ]
  },
  {
   "cell_type": "markdown",
   "metadata": {},
   "source": [
    "### Helper code"
   ]
  },
  {
   "cell_type": "code",
   "execution_count": null,
   "metadata": {},
   "outputs": [],
   "source": [
    "def calculate_survival_benefit(data_df1, data_df2, time_points=[1,3, 5,7, 10]):\n",
    "    # Initialize Kaplan-Meier fitters for each group\n",
    "    kmf_hr = KaplanMeierFitter()  # High risk group\n",
    "    kmf_lr = KaplanMeierFitter()  # Low risk group\n",
    "\n",
    "    # Fit data for high risk group\n",
    "    kmf_hr.fit(data_df1['time'], event_observed=data_df1['event'])\n",
    "\n",
    "    # Fit data for low risk group\n",
    "    kmf_lr.fit(data_df2['time'], event_observed=data_df2['event'])\n",
    "\n",
    "    # Calculate survival probabilities at specified time points\n",
    "    survival_hr = kmf_hr.survival_function_.reindex(time_points, method='nearest')\n",
    "    survival_lr = kmf_lr.survival_function_.reindex(time_points, method='nearest')\n",
    "\n",
    "    # Calculate differences in survival probabilities and format them\n",
    "    survival_benefits = {}\n",
    "    for t in time_points:\n",
    "        prob_hr = kmf_hr.predict(t)\n",
    "        prob_lr = kmf_lr.predict(t)\n",
    "        survival_benefit = (prob_lr - prob_hr) * 100  # in percentage points\n",
    "        survival_benefits[t] = survival_benefit\n",
    "\n",
    "    return survival_benefits\n",
    "\n",
    "\n",
    "def plot_km_same_risk_group(data_df1, data_df2, data_stats, figure_save_path, title_str):\n",
    "    \n",
    "    # Create a colormap\n",
    "    cmap = plt.cm.get_cmap('Reds')\n",
    "    # Choose a shade of red\n",
    "    hr_shade = cmap(0.75)\n",
    "\n",
    "    cmap = plt.cm.get_cmap('Blues')\n",
    "    # Choose a shade of red\n",
    "    lr_shade = cmap(0.75)\n",
    "    \n",
    "    fig, ax = plt.subplots(1, 1, figsize=(15, 12))\n",
    "\n",
    "    data_high_risk = data_df1\n",
    "    data_low_risk = data_df2\n",
    "\n",
    "    kmf_hr = KaplanMeierFitter()\n",
    "    kmf_hr.fit(data_high_risk['time'], event_observed=data_high_risk['event'], label='RT+ADT')\n",
    "    kmf_hr.plot_survival_function(ax=ax, color='#f8766d', lw=2, show_censors=True)\n",
    "\n",
    "    kmf_lr = KaplanMeierFitter()\n",
    "    kmf_lr.fit(data_low_risk['time'], event_observed=data_low_risk['event'], label='RT+ADT+CT')\n",
    "    kmf_lr.plot_survival_function(ax=ax, color='#03bfc4', lw=2, show_censors=True, )\n",
    "    \n",
    "    \n",
    "    print(\"Low risk median survival time: \",kmf_lr.median_survival_time_)\n",
    "    print(\"High risk median survival time: \",kmf_hr.median_survival_time_)\n",
    "    max_median_survival_time = max(kmf_hr.median_survival_time_ , kmf_lr.median_survival_time_)\n",
    "    if max_median_survival_time == np.inf:\n",
    "        plt.axhline(y=0.5, color='black', linestyle='--', lw=1)\n",
    "    else:\n",
    "        plt.plot([0, max_median_survival_time], [0.5, 0.5], color='black', linestyle='--', lw=1)\n",
    "    # Vertical lines up to y=0.5, using plot for precise control\n",
    "    plt.plot([kmf_hr.median_survival_time_, kmf_hr.median_survival_time_], [0, 0.5], color='black', linestyle='--', lw=1)\n",
    "    plt.plot([kmf_lr.median_survival_time_, kmf_lr.median_survival_time_], [0, 0.5], color='black', linestyle='--', lw=1)\n",
    "    ax.set_title(title_str, fontsize=26)\n",
    "\n",
    "    yticks = [np.round(x,1) for x in ax.get_yticks()]\n",
    "    ax.set_yticklabels(yticks, fontsize=20)\n",
    "    ax.set_xticklabels(ax.get_xticks().astype(int), fontsize=20)\n",
    "\n",
    "\n",
    "    ax.set_xlabel('Time (Years)', fontsize=28)\n",
    "    ax.set_ylabel('Overall Survival Probability', fontsize=28)\n",
    "    data_p, data_hr, data_ci_lower, data_ci_upper = data_stats\n",
    "    format_p = lambda p: f\"{p:.1e}\" if p < 0.001 else f\"{p:.4f}\"\n",
    "\n",
    "# Updated string formatting\n",
    "    data_stats_text = f'p: {format_p(data_p)}\\nHR: {data_hr:.2f} [95% CI: {data_ci_lower:.2f} - {data_ci_upper:.2f}]'\n",
    "    #data_stats_text = f'p: {data_p:.1e if data_p < 0.001 else data_p:.4f}\\nHR: {data_hr:.2f} [95% CI: {data_ci_lower:.2f} - {data_ci_upper:.2f}]'\n",
    "    ax.text(0.03, 0.1, data_stats_text, transform=ax.transAxes, fontsize=24, verticalalignment='bottom')\n",
    "\n",
    "    # Add the risk table at the bottom of the KM plot on ax[1] (the bottom subplot)\n",
    "    sns.despine()\n",
    "    add_at_risk_counts(kmf_hr, kmf_lr, ax=ax, fontsize=20)\n",
    "    ax.legend(fontsize=24)\n",
    "    plt.tight_layout()\n",
    "    \n",
    "    #fig.savefig(figure_save_path, bbox_inches='tight')\n",
    "    plt.show()\n",
    "\n",
    "def plot_km_curve_lifelines(data_df, data_stats, figure_save_path, title_str):\n",
    "    \n",
    "    # Create a colormap\n",
    "    cmap = plt.cm.get_cmap('Reds')\n",
    "    # Choose a shade of red\n",
    "    hr_shade = cmap(0.75)\n",
    "\n",
    "    cmap = plt.cm.get_cmap('Blues')\n",
    "    # Choose a shade of red\n",
    "    lr_shade = cmap(0.75)\n",
    "    \n",
    "    fig, ax = plt.subplots(1, 1, figsize=(15, 12))\n",
    "\n",
    "    data_high_risk = data_df[data_df['risk_group']==1]\n",
    "    data_low_risk = data_df[data_df['risk_group']==0]\n",
    "\n",
    "    kmf_hr = KaplanMeierFitter()\n",
    "    kmf_hr.fit(data_high_risk['time'], event_observed=data_high_risk['event'], label='High Risk')\n",
    "    kmf_hr.plot_survival_function(ax=ax, color='#f8766d', lw=2, show_censors=True)\n",
    "\n",
    "    kmf_lr = KaplanMeierFitter()\n",
    "    kmf_lr.fit(data_low_risk['time'], event_observed=data_low_risk['event'], label='Low Risk')\n",
    "    kmf_lr.plot_survival_function(ax=ax, color='#03bfc4', lw=2, show_censors=True, )\n",
    "    \n",
    "    \n",
    "    print(\"Low risk median survival time: \",kmf_lr.median_survival_time_)\n",
    "    print(\"High risk median survival time: \",kmf_hr.median_survival_time_)\n",
    "    max_median_survival_time = max(kmf_hr.median_survival_time_ , kmf_lr.median_survival_time_)\n",
    "    if max_median_survival_time == np.inf:\n",
    "        plt.axhline(y=0.5, color='black', linestyle='--', lw=1)\n",
    "    else:\n",
    "        plt.plot([0, max_median_survival_time], [0.5, 0.5], color='black', linestyle='--', lw=1)\n",
    "    # Vertical lines up to y=0.5, using plot for precise control\n",
    "    plt.plot([kmf_hr.median_survival_time_, kmf_hr.median_survival_time_], [0, 0.5], color='black', linestyle='--', lw=1)\n",
    "    plt.plot([kmf_lr.median_survival_time_, kmf_lr.median_survival_time_], [0, 0.5], color='black', linestyle='--', lw=1)\n",
    "    ax.set_title(title_str, fontsize=26)\n",
    "\n",
    "    yticks = [np.round(x,1) for x in ax.get_yticks()]\n",
    "    ax.set_yticklabels(yticks, fontsize=20)\n",
    "    ax.set_xticklabels(ax.get_xticks().astype(int), fontsize=20)\n",
    "\n",
    "\n",
    "    ax.set_xlabel('Time (Years)', fontsize=28)\n",
    "    ax.set_ylabel('Overall Survival Probability', fontsize=28)\n",
    "    data_p, data_hr, data_ci_lower, data_ci_upper = data_stats\n",
    "    format_p = lambda p: f\"{p:.1e}\" if p < 0.001 else f\"{p:.4f}\"\n",
    "\n",
    "# Updated string formatting\n",
    "    data_stats_text = f'p: {format_p(data_p)}\\nHR: {data_hr:.2f} [95% CI: {data_ci_lower:.2f} - {data_ci_upper:.2f}]'\n",
    "    #data_stats_text = f'p: {data_p:.1e if data_p < 0.001 else data_p:.4f}\\nHR: {data_hr:.2f} [95% CI: {data_ci_lower:.2f} - {data_ci_upper:.2f}]'\n",
    "    ax.text(0.03, 0.1, data_stats_text, transform=ax.transAxes, fontsize=24, verticalalignment='bottom')\n",
    "\n",
    "    # Add the risk table at the bottom of the KM plot on ax[1] (the bottom subplot)\n",
    "    sns.despine()\n",
    "    add_at_risk_counts(kmf_hr, kmf_lr, ax=ax, fontsize=20)\n",
    "    ax.legend(fontsize=24)\n",
    "    plt.tight_layout()\n",
    "    \n",
    "    #fig.savefig(figure_save_path, bbox_inches='tight')\n",
    "    plt.show()\n",
    "\n",
    "\n",
    "def remove_correlated_features(df, threshold=0.95):\n",
    "    # Create correlation matrix\n",
    "    corr_matrix = pd.DataFrame(np.corrcoef(df.values, rowvar=False), columns=df.columns).abs() \n",
    "\n",
    "    # Select upper triangle of correlation matrix\n",
    "    upper = corr_matrix.where(np.triu(np.ones(corr_matrix.shape), k=1).astype(bool))\n",
    "\n",
    "    # Find features with correlation greater than 0.95\n",
    "    to_drop = [column for column in upper.columns if any(upper[column] > threshold)]\n",
    "    # len(to_drop)\n",
    "\n",
    "    # Drop features \n",
    "    corr_removed_df = df.drop(to_drop, axis=1)\n",
    "    \n",
    "    return corr_removed_df\n",
    "\n",
    "\n",
    "def plot_coefficients(coefs, n_highlight):\n",
    "    _, ax = plt.subplots(figsize=(9, 6))\n",
    "    n_features = coefs.shape[0]\n",
    "    alphas = coefs.columns\n",
    "    for row in coefs.itertuples():\n",
    "        ax.semilogx(alphas, row[1:], \".-\", label=row.Index)\n",
    "\n",
    "    alpha_min = alphas.min()\n",
    "    top_coefs = coefs.loc[:, alpha_min].map(abs).sort_values().tail(n_highlight)\n",
    "    for name in top_coefs.index:\n",
    "        coef = coefs.loc[name, alpha_min]\n",
    "        plt.text(alpha_min, coef, name + \"   \", horizontalalignment=\"right\", verticalalignment=\"center\")\n",
    "\n",
    "    ax.yaxis.set_label_position(\"right\")\n",
    "    ax.yaxis.tick_right()\n",
    "    ax.grid(True)\n",
    "    ax.set_xlabel(\"alpha\")\n",
    "    ax.set_ylabel(\"coefficient\")\n",
    "    \n",
    "def boruta_selected_features(feature_df, y):\n",
    "    # define Boruta feature selection method\n",
    "    # ipdb.set_trace()\n",
    "    rf = RandomForestClassifier(n_jobs=-1, class_weight='balanced', max_depth=5)\n",
    "\n",
    "    feat_selector = BorutaPy(rf, n_estimators='auto', perc=95, alpha=0.05, two_step=False,verbose=0, random_state=42)\n",
    "\n",
    "    feat_selector.fit(feature_df.values, y)\n",
    "\n",
    "    # check selected features\n",
    "    boruta_selected_features = feature_df.columns[feat_selector.support_  | feat_selector.support_weak_].to_list()\n",
    "    boruta_selected_features_df = feature_df[boruta_selected_features]\n",
    "    \n",
    "    return boruta_selected_features_df\n",
    "\n",
    "def get_discriminative_features(view_features):\n",
    "\n",
    "    view_features_trim1 = view_features.drop(['patient_id', 'event', 'time'], axis=1) #'view', , 'img_id'\n",
    "    y = view_features['event']\n",
    "    if scaler_type == \"minmax\":\n",
    "        scaler = MinMaxScaler() #StandardScaler() #RobustScaler() #\n",
    "    else:\n",
    "        scaler = RobustScaler(unit_variance=True)\n",
    "    view_features_scaled = pd.DataFrame(scaler.fit_transform(view_features_trim1.values), columns=view_features_trim1.columns)\n",
    "\n",
    "    view_features_trim2 = remove_correlated_features(view_features_scaled, threshold=0.85)\n",
    "\n",
    "\n",
    "    # drop columns with zero variance using sklearn's VarianceThreshold\n",
    "    sel = VarianceThreshold(threshold=0.01)\n",
    "    sel.fit(view_features_trim2)\n",
    "    view_features_trimmed = view_features_trim2[view_features_trim2.columns[sel.get_support(indices=True)]]\n",
    "    rf = RandomForestClassifier(n_jobs=-1, class_weight='balanced', max_depth=5)\n",
    "\n",
    "    feat_selector = BorutaPy(rf, n_estimators='auto', perc=98, alpha=0.05, two_step=False,verbose=0, random_state=42)\n",
    "\n",
    "    feat_selector.fit(view_features_trimmed.values, y)\n",
    "\n",
    "\n",
    "    # check selected features\n",
    "    boruta_selected_features = view_features_trimmed.columns[feat_selector.support_].to_list() # | feat_selector.support_weak_\n",
    "\n",
    "    disc_features = view_features_trimmed[boruta_selected_features]\n",
    "    disc_features = pd.DataFrame(scaler.fit_transform(disc_features.values), columns=disc_features.columns)\n",
    "\n",
    "    return disc_features#, sig_pvals\n",
    "\n",
    "def plot_raincloudplots(df, stable_features, events_df, save_path):\n",
    "    rc_plot_df = df.copy()\n",
    "    rc_plot_df['event'] = events_df\n",
    "    for feature in stable_features:\n",
    "        fig = plt.figure(figsize=(5,4))\n",
    "        # Perform wilcoxon test to check if the feature is significantly different between the two groups\n",
    "        \n",
    "        stat, pvalue = f_oneway(rc_plot_df[events_df==1][feature].values, rc_plot_df[events_df==0][feature].values)\n",
    "        \n",
    "        pt.RainCloud(x='event', y=feature, data=rc_plot_df)\n",
    "        plt.title('p_val: '+str(pvalue))\n",
    "        plt.show()\n",
    "        fig.savefig(save_path+'_'+feature+'.png', dpi=300, bbox_inches='tight')\n",
    "        \n",
    "def get_hr_and_pval(threshold, val_risk_scores, y_val_survlabel):\n",
    "\n",
    "    # Calculate Kaplan-Meier estimator for different risk groups\n",
    "    risk_groups = threshold #np.mean(val_risk_scores)#np.percentile(test_risk_scores, 50)\n",
    "    risk_group_labels = np.array([1 if x > risk_groups else 0 for x in val_risk_scores])#np.digitize(test_risk_scores, risk_groups)\n",
    "    survival_probs = []\n",
    "    survival_times = []\n",
    "\n",
    "    for group_label in np.unique(risk_group_labels):\n",
    "        group_indices = np.where(risk_group_labels == group_label)\n",
    "        group_time, group_survival_prob = kaplan_meier_estimator(events[group_indices], times[group_indices])\n",
    "        survival_probs.append(group_survival_prob)\n",
    "        survival_times.append(group_time)\n",
    "\n",
    "\n",
    "    tstat, pval, stats0, stats1 = compare_survival(y_val_survlabel, risk_group_labels, return_stats=True)\n",
    "\n",
    "    return tstat, pval\n",
    "\n",
    "def get_cph_model_stats(cph_model_results, c_index):\n",
    "    \n",
    "    cph_p_value = cph_model_results['p'].values[0]\n",
    "    cph_HR = cph_model_results['exp(coef)'].values[0]\n",
    "    cph_CI_lower = cph_model_results['exp(coef) lower 95%'].values[0]\n",
    "    cph_CI_upper = cph_model_results['exp(coef) upper 95%'].values[0]\n",
    "    \n",
    "    \n",
    "    return (cph_p_value, cph_HR, cph_CI_lower, cph_CI_upper, c_index)\n",
    "\n",
    "def get_multivariate_coxph_results(risk_df, drop_cols=['patient_id']):\n",
    "    \n",
    "    cph = CoxPHFitter(l1_ratio=0.7)\n",
    "    risk_vars = risk_df.drop(columns=drop_cols)\n",
    "    cph.fit(risk_vars, duration_col='time', event_col='event', show_progress=False)\n",
    "    results = cph.summary\n",
    "    \n",
    "    return results, cph\n",
    "\n",
    "def get_multivariate_coxph_results_stratified(risk_df, drop_cols=['patient_id'], strata_cols=['gleason']):\n",
    "    # Initialize the Cox proportional hazards model with regularization\n",
    "    cph = CoxPHFitter(l1_ratio=0.7)\n",
    "    \n",
    "    # Drop specified columns from the DataFrame\n",
    "    risk_vars = risk_df.drop(columns=drop_cols)\n",
    "    \n",
    "    # Fit the model with stratification on the specified columns\n",
    "    cph.fit(risk_vars, duration_col='time', event_col='event', strata=strata_cols, show_progress=False)\n",
    "    \n",
    "    # Get the summary of the model's results\n",
    "    results = cph.summary\n",
    "    \n",
    "    return results, cph\n",
    "\n",
    "def plot_n_save_adjusted_hazard(cph_training_adjusted_risk, cph_holdout_adjusted_risk,training_df, holdout_df, save_path, title='Adjusted Risk model'):\n",
    "    \n",
    "    fig, ax = plt.subplots(1, 2, figsize=(25,10))\n",
    "\n",
    "    cph_training_adjusted_risk.plot(hazard_ratios=True, ax = ax[0])\n",
    "    ax[0].set_title('Training Patients', fontsize=23)\n",
    "    ax[0].set_ylabel('Covariates', fontsize=20)\n",
    "    ax[0].set_xlabel('Hazard Ratio (95% CI)', fontsize=18)\n",
    "    ax[0].set_xticklabels(ax[0].get_xticklabels(), fontsize=18)\n",
    "    ax[0].set_yticklabels(ax[0].get_yticklabels(), fontsize=18)\n",
    "    \n",
    "    # increase the space between the two subplots\n",
    "    fig.subplots_adjust(wspace=0.5)\n",
    "    \n",
    "    cph_holdout_adjusted_risk.plot(hazard_ratios=True, ax = ax[1])\n",
    "    ax[1].set_title('Holdout Patients'.format(len(holdout_df)), fontsize=20)\n",
    "\n",
    "    \n",
    "    ax[1].set_xlabel('Hazard Ratio (95% CI)', fontsize=18)\n",
    "    ax[1].set_xticklabels(ax[1].get_xticklabels(), fontsize=18)\n",
    "    ax[1].set_yticklabels(ax[1].get_yticklabels(), fontsize=18)\n",
    "\n",
    "    plt.suptitle(title, fontsize=25, y=0.98)\n",
    "    #fig.savefig(save_path)\n",
    "    plt.show()\n",
    "\n",
    "warnings.simplefilter(\"ignore\", UserWarning)\n",
    "warnings.simplefilter(\"ignore\", FitFailedWarning)\n",
    "warnings.simplefilter(\"ignore\", RuntimeWarning)"
   ]
  },
  {
   "cell_type": "markdown",
   "metadata": {},
   "source": [
    "### Survival Analysis"
   ]
  },
  {
   "cell_type": "code",
   "execution_count": null,
   "metadata": {},
   "outputs": [],
   "source": [
    "features = pd.read_csv(r\"combined_fixed_final.csv\")"
   ]
  },
  {
   "cell_type": "code",
   "execution_count": null,
   "metadata": {},
   "outputs": [],
   "source": [
    "features.rename(columns={'survival_years': 'time', 'survival': 'event'}, inplace=True)\n",
    "features = features.drop(columns=['disease_free_survival', 'disease_free_survival_years', 'any_distant_mets', 'any_distant_mets_years', 'local_failure', 'local_failure_years', 'biochemical_failure', 'biochemical_failure_years'])"
   ]
  },
  {
   "cell_type": "code",
   "execution_count": null,
   "metadata": {},
   "outputs": [],
   "source": [
    "split_percentage = 0.5\n",
    "scaler_type = \"minmax\"\n",
    "feature_Sel_type = \"ElasticNet\"\n",
    "cohort = \"RTOG_0521_OS_spatil_plus_nucdiv\"\n",
    "l1_ratio = 0.9\n",
    "risk_treshold_method = \"median\"\n",
    "num_features = 5\n",
    "N_runs = 50\n",
    "seed = 0\n",
    "random.seed(seed)"
   ]
  },
  {
   "cell_type": "code",
   "execution_count": null,
   "metadata": {},
   "outputs": [],
   "source": [
    "imputer = SimpleImputer(strategy='median')\n",
    "rtog_features = features.drop(['patient_id', 'RX', 'time', 'event'], axis=1) # \n",
    "rtog_features.replace([np.inf, -np.inf], np.nan, inplace=True)\n",
    "num_df = rtog_features.values\n",
    "names = rtog_features.columns.values\n",
    "rtog_features = pd.DataFrame(imputer.fit_transform(num_df), columns=names)\n",
    "rtog_features['patient_id'] = features['patient_id']\n",
    "rtog_features['RX'] = features['RX']\n",
    "rtog_features['time'] = features['time']\n",
    "rtog_features['event'] = features['event']"
   ]
  },
  {
   "cell_type": "markdown",
   "metadata": {},
   "source": [
    "##### Select one treatment arm to train"
   ]
  },
  {
   "cell_type": "code",
   "execution_count": null,
   "metadata": {},
   "outputs": [],
   "source": [
    "rtog_leg_1 = rtog_features.loc[rtog_features['RX'] == 1]"
   ]
  },
  {
   "cell_type": "code",
   "execution_count": null,
   "metadata": {},
   "outputs": [],
   "source": [
    "# select relevant features from both sets\n",
    "selected_cols = ['patient_id', 'RX', 'time', 'event', 'nucdiv_60', 'spatil_0', 'spatil_341', 'nucdiv_293', 'spatil_51', 'spatil_336', 'nucdiv_360']\n",
    "selected_df = rtog_leg_1[selected_cols]\n",
    "training_data, holdout_data = train_test_split(selected_df, test_size=split_percentage, random_state=seed, stratify=selected_df['event'])\n"
   ]
  },
  {
   "cell_type": "code",
   "execution_count": null,
   "metadata": {},
   "outputs": [],
   "source": [
    "training_data"
   ]
  },
  {
   "cell_type": "code",
   "execution_count": null,
   "metadata": {},
   "outputs": [],
   "source": [
    "scaler = MinMaxScaler()\n",
    "X_train = training_data.drop(columns=['patient_id', 'event', 'time', 'RX'], axis=1)\n",
    "X_val = holdout_data.drop(columns=['patient_id', 'event', 'time', 'RX'], axis=1)\n",
    "X_train = pd.DataFrame(scaler.fit_transform(X_train), columns=X_train.columns)\n",
    "X_val = pd.DataFrame(scaler.transform(X_val), columns=X_val.columns)\n",
    "X_train['patient_id'] = training_data['patient_id'].values\n",
    "X_train['time'] = training_data['time'].values\n",
    "X_train['event'] = training_data['event'].values\n",
    "X_val['patient_id'] = holdout_data['patient_id'].values\n",
    "X_val['time'] = holdout_data['time'].values\n",
    "X_val['event'] = holdout_data['event'].values"
   ]
  },
  {
   "cell_type": "code",
   "execution_count": null,
   "metadata": {},
   "outputs": [],
   "source": [
    "y_training_survlabel = Surv.from_dataframe('event', 'time', training_data)\n",
    "y_holdout_survlabel = Surv.from_dataframe('event', 'time', holdout_data)"
   ]
  },
  {
   "cell_type": "code",
   "execution_count": null,
   "metadata": {},
   "outputs": [],
   "source": [
    "X_training = X_train.drop(['patient_id', 'event', 'time'], axis=1)\n",
    "X_holdout = X_val.drop(['patient_id', 'event', 'time'], axis=1)\n",
    "y_training = X_train[['patient_id','event', 'time']].reset_index(drop=True)\n",
    "y_holdout = X_val[['patient_id','event', 'time']].reset_index(drop=True)"
   ]
  },
  {
   "cell_type": "code",
   "execution_count": null,
   "metadata": {},
   "outputs": [],
   "source": [
    "cph = CoxPHFitter()\n",
    "cph.fit(X_train.drop(columns=['patient_id']), duration_col='time', event_col='event', show_progress=False)\n",
    "cph.print_summary()"
   ]
  },
  {
   "cell_type": "code",
   "execution_count": null,
   "metadata": {},
   "outputs": [],
   "source": [
    "training_risk_scores = cph.predict_partial_hazard(X_train)\n",
    "holdout_risk_scores = cph.predict_partial_hazard(X_holdout)"
   ]
  },
  {
   "cell_type": "code",
   "execution_count": null,
   "metadata": {},
   "outputs": [],
   "source": [
    "risk_threshold = np.median(training_risk_scores)"
   ]
  },
  {
   "cell_type": "code",
   "execution_count": null,
   "metadata": {},
   "outputs": [],
   "source": [
    "risk_threshold"
   ]
  },
  {
   "cell_type": "code",
   "execution_count": null,
   "metadata": {},
   "outputs": [],
   "source": [
    "events, times = y_training['event'].values.astype(bool),   y_training['time'].values"
   ]
  },
  {
   "cell_type": "code",
   "execution_count": null,
   "metadata": {},
   "outputs": [],
   "source": [
    "train_risk_group_labels = np.array([1 if x > risk_threshold else 0 for x in training_risk_scores])#np.digitize(train_risk_scores, risk_groups)\n",
    "train_survival_probs = []\n",
    "train_survival_times = []\n",
    "events, times = y_training['event'].values.astype(bool),   y_training['time'].values\n",
    "\n",
    "for group_label in np.unique(train_risk_group_labels):\n",
    "    group_indices = np.where(train_risk_group_labels == group_label)\n",
    "    group_time, group_survival_prob = kaplan_meier_estimator(events[group_indices], times[group_indices])\n",
    "    train_survival_probs.append(group_survival_prob)\n",
    "    train_survival_times.append(group_time)\n",
    "\n",
    "events, times = y_holdout['event'].values.astype(bool),   y_holdout['time'].values\n",
    "holdout_risk_group_labels = np.array([1 if x > risk_threshold else 0 for x in holdout_risk_scores])#np.digitize(test_risk_scores, risk_groups)\n",
    "holdout_survival_probs = []\n",
    "holdout_survival_times = []\n",
    "\n",
    "for group_label in np.unique(holdout_risk_group_labels):\n",
    "    group_indices = np.where(holdout_risk_group_labels == group_label)\n",
    "    group_time, group_survival_prob = kaplan_meier_estimator(events[group_indices], times[group_indices])\n",
    "    holdout_survival_probs.append(group_survival_prob)\n",
    "    holdout_survival_times.append(group_time)"
   ]
  },
  {
   "cell_type": "code",
   "execution_count": null,
   "metadata": {},
   "outputs": [],
   "source": [
    "y_holdout['risk_score'] = holdout_risk_scores\n",
    "y_holdout['risk_group'] = holdout_risk_group_labels\n",
    "y_holdout['patient_id'] = y_holdout['patient_id']\n",
    "y_holdout = y_holdout.sort_values(by=['patient_id']).reset_index(drop=True)\n",
    "y_holdout"
   ]
  },
  {
   "cell_type": "code",
   "execution_count": null,
   "metadata": {},
   "outputs": [],
   "source": [
    "y_training['risk_score'] = training_risk_scores\n",
    "y_training['risk_group'] = train_risk_group_labels\n",
    "y_training['patient_id'] = y_training['patient_id']\n",
    "y_training = y_training.sort_values(by=['patient_id']).reset_index(drop=True)\n",
    "y_training"
   ]
  },
  {
   "cell_type": "code",
   "execution_count": null,
   "metadata": {},
   "outputs": [],
   "source": [
    "LL_train = y_training.drop(['patient_id', 'risk_score'], axis=1)\n",
    "LL_holdout = y_holdout.drop(['patient_id', 'risk_score'], axis=1)\n",
    "cph_train = CoxPHFitter()\n",
    "cph_train.fit(LL_train, duration_col='time', event_col='event', show_progress=False)\n",
    "cph_holdout = CoxPHFitter()\n",
    "cph_holdout.fit(LL_holdout, duration_col='time', event_col='event', show_progress=False)\n",
    "training_results = cph_train.summary\n",
    "training_p = multivariate_logrank_test(y_training['time'], y_training['risk_group'], y_training['event']).p_value# training_results['p'].values[0]\n",
    "training_hr = training_results['exp(coef)'].values[0]\n",
    "training_ci_lower = training_results['exp(coef) lower 95%'].values[0]\n",
    "training_ci_upper = training_results['exp(coef) upper 95%'].values[0]\n",
    "training_log_likelihood = cph_train.log_likelihood_\n",
    "model_metrics = pd.DataFrame()\n",
    "model_metrics['training_p_value'] = [training_p]\n",
    "model_metrics['training_hazard_ratio'] = [training_hr]\n",
    "model_metrics['training_hr_ci_lower'] = [training_ci_lower]\n",
    "model_metrics['training_hr_ci_upper'] = [training_ci_upper]\n",
    "model_metrics['training_log_likelihood'] = [training_log_likelihood]\n",
    "model_metrics['training_parameters'] = [cph_train.params_.shape[0]]\n",
    "training_data_stats = (training_p, training_hr, training_ci_lower, training_ci_upper)\n",
    "holdout_results = cph_holdout.summary\n",
    "holdout_p = multivariate_logrank_test(y_holdout['time'], y_holdout['risk_group'], y_holdout['event']).p_value # holdout_results['p'].values[0]\n",
    "holdout_hr = holdout_results['exp(coef)'].values[0]\n",
    "holdout_ci_lower = holdout_results['exp(coef) lower 95%'].values[0]\n",
    "holdout_ci_upper = holdout_results['exp(coef) upper 95%'].values[0]\n",
    "holdout_log_likelihood = cph_holdout.log_likelihood_\n",
    "model_metrics['holdout_p_value'] = [holdout_p]\n",
    "model_metrics['holdout_hazard_ratio'] = [holdout_hr]\n",
    "model_metrics['holdout_hr_ci_lower'] = [holdout_ci_lower]\n",
    "model_metrics['holdout_hr_ci_upper'] = [holdout_ci_upper]\n",
    "model_metrics['holdout_log_likelihood'] = [holdout_log_likelihood]\n",
    "model_metrics['holdout_parameters'] = [cph_holdout.params_.shape[0]]\n",
    "holdout_data_stats = (holdout_p, holdout_hr, holdout_ci_lower, holdout_ci_upper)"
   ]
  },
  {
   "cell_type": "code",
   "execution_count": null,
   "metadata": {},
   "outputs": [],
   "source": [
    "cph_train.print_summary()"
   ]
  },
  {
   "cell_type": "code",
   "execution_count": null,
   "metadata": {},
   "outputs": [],
   "source": [
    "cph_holdout.print_summary()"
   ]
  },
  {
   "cell_type": "code",
   "execution_count": null,
   "metadata": {},
   "outputs": [],
   "source": [
    "train_title_str = 'Training Set - RT+ADT treated patients (N={:d})'.format(len(y_training))\n",
    "train_figure_save_path = f'KM_curve_training.png'\n",
    "plot_km_curve_lifelines(y_training, training_data_stats, train_figure_save_path, train_title_str)"
   ]
  },
  {
   "cell_type": "code",
   "execution_count": null,
   "metadata": {},
   "outputs": [],
   "source": [
    "holdout_title_str = 'Holdout Set - RT+ADT treated patients (N={:d})'.format(len(y_holdout))\n",
    "holdout_figure_save_path = f'KM_curve_holdout.png'\n",
    "plot_km_curve_lifelines(y_holdout, holdout_data_stats, holdout_figure_save_path, holdout_title_str)"
   ]
  },
  {
   "cell_type": "markdown",
   "metadata": {},
   "source": [
    "### LEG 2"
   ]
  },
  {
   "cell_type": "code",
   "execution_count": null,
   "metadata": {},
   "outputs": [],
   "source": [
    "rtog_leg_2 = rtog_features.loc[rtog_features['RX'] == 2]\n",
    "rtog_leg_2 = rtog_leg_2[selected_cols]\n",
    "X_holdout_chemo_arm = rtog_leg_2.drop(['patient_id', 'event', 'time', 'RX'], axis=1).reset_index(drop=True)\n",
    "y_holdout_chemo_arm = rtog_leg_2[['patient_id','event', 'time', 'RX']].reset_index(drop=True)\n",
    "X_holdout_chemo_arm = pd.DataFrame(scaler.transform(X_holdout_chemo_arm), columns=X_holdout_chemo_arm.columns)\n",
    "y_holdout_chemo_arm_survlabel = Surv.from_dataframe('event', 'time', y_holdout_chemo_arm)"
   ]
  },
  {
   "cell_type": "code",
   "execution_count": null,
   "metadata": {},
   "outputs": [],
   "source": [
    "chemo_arm_risk_scores = cph.predict_partial_hazard(X_holdout_chemo_arm)"
   ]
  },
  {
   "cell_type": "code",
   "execution_count": null,
   "metadata": {},
   "outputs": [],
   "source": [
    "chemo_arm_events, chemo_arm_times = y_holdout_chemo_arm['event'].values.astype(bool), y_holdout_chemo_arm['time'].values\n",
    "holdout_chemo_arm_risk_group_labels = np.array([1 if x > risk_threshold else 0 for x in chemo_arm_risk_scores])\n",
    "holdout_chemo_arm_survival_probs = []\n",
    "holdout_chemo_arm_survival_times = []\n",
    "for group_label in np.unique(holdout_chemo_arm_risk_group_labels):\n",
    "    group_indices = np.where(holdout_chemo_arm_risk_group_labels == group_label)\n",
    "    group_time, group_survival_prob = kaplan_meier_estimator(chemo_arm_events[group_indices], chemo_arm_times[group_indices])\n",
    "    holdout_survival_probs.append(group_survival_prob)\n",
    "    holdout_survival_times.append(group_time)"
   ]
  },
  {
   "cell_type": "code",
   "execution_count": null,
   "metadata": {},
   "outputs": [],
   "source": [
    "y_holdout_chemo_arm['risk_score'] = chemo_arm_risk_scores\n",
    "y_holdout_chemo_arm['risk_group'] = holdout_chemo_arm_risk_group_labels\n",
    "y_holdout_chemo_arm['patient_id'] = y_holdout_chemo_arm['patient_id']\n",
    "y_holdout_chemo_arm = y_holdout_chemo_arm.sort_values(by=['patient_id']).reset_index(drop=True)\n",
    "y_holdout_chemo_arm"
   ]
  },
  {
   "cell_type": "code",
   "execution_count": null,
   "metadata": {},
   "outputs": [],
   "source": [
    "y_holdout_chemo_arm"
   ]
  },
  {
   "cell_type": "code",
   "execution_count": null,
   "metadata": {},
   "outputs": [],
   "source": [
    "LL_holdout_chemo_arm = y_holdout_chemo_arm.drop(['patient_id', 'risk_score', 'RX'], axis=1)\n",
    "cph_holdout_chemo_arm = CoxPHFitter()\n",
    "cph_holdout_chemo_arm.fit(LL_holdout_chemo_arm, duration_col='time', event_col='event', show_progress=False)\n",
    "chemo_arm_holdout_results = cph_holdout_chemo_arm.summary\n",
    "chemo_arm_holdout_p = multivariate_logrank_test(y_holdout_chemo_arm['time'], y_holdout_chemo_arm['risk_group'], y_holdout_chemo_arm['event']).p_value # holdout_results['p'].values[0]\n",
    "chemo_arm_holdout_hr = chemo_arm_holdout_results['exp(coef)'].values[0]\n",
    "chemo_arm_holdout_ci_lower = chemo_arm_holdout_results['exp(coef) lower 95%'].values[0]\n",
    "chemo_arm_holdout_ci_upper = chemo_arm_holdout_results['exp(coef) upper 95%'].values[0]\n",
    "chemo_arm_holdout_log_likelihood = cph_holdout_chemo_arm.log_likelihood_\n",
    "model_metrics_chemo_arm = pd.DataFrame()\n",
    "model_metrics_chemo_arm['holdout_p_value'] = [chemo_arm_holdout_p]\n",
    "model_metrics_chemo_arm['holdout_hazard_ratio'] = [chemo_arm_holdout_hr]\n",
    "model_metrics_chemo_arm['holdout_hr_ci_lower'] = [chemo_arm_holdout_ci_lower]\n",
    "model_metrics_chemo_arm['holdout_hr_ci_upper'] = [chemo_arm_holdout_ci_upper]\n",
    "model_metrics_chemo_arm['holdout_log_likelihood'] = [chemo_arm_holdout_log_likelihood]\n",
    "model_metrics_chemo_arm['holdout_parameters'] = [cph_holdout_chemo_arm.params_.shape[0]]\n",
    "chemo_arm_holdout_data_stats = (chemo_arm_holdout_p, chemo_arm_holdout_hr, chemo_arm_holdout_ci_lower, chemo_arm_holdout_ci_upper)"
   ]
  },
  {
   "cell_type": "code",
   "execution_count": null,
   "metadata": {},
   "outputs": [],
   "source": [
    "cph_holdout_chemo_arm.print_summary()"
   ]
  },
  {
   "cell_type": "code",
   "execution_count": null,
   "metadata": {},
   "outputs": [],
   "source": [
    "chemo_arm_holdout_title_str = 'Test Set - RT+ADT+CT (Docetaxel) treated patients(N={:d})'.format(len(y_holdout_chemo_arm))\n",
    "chemo_arm_holdout_figure_save_path = f'KM_curve_holdout_chemo_arm.png'\n",
    "plot_km_curve_lifelines(y_holdout_chemo_arm, chemo_arm_holdout_data_stats, chemo_arm_holdout_figure_save_path, chemo_arm_holdout_title_str)"
   ]
  },
  {
   "cell_type": "markdown",
   "metadata": {},
   "source": [
    "#### APIC-low RT+ADT vs RT+ADT+CT"
   ]
  },
  {
   "cell_type": "code",
   "execution_count": null,
   "metadata": {},
   "outputs": [],
   "source": [
    "chemo_favorable_risk = y_holdout_chemo_arm[y_holdout_chemo_arm['risk_group'] == 0]\n",
    "chemo_favorable_risk['chemo'] = 1\n",
    "no_chemo_favorable_risk = y_holdout[y_holdout['risk_group'] == 0]\n",
    "no_chemo_favorable_risk['chemo'] = 0\n",
    "favorable_risk = pd.concat([chemo_favorable_risk, no_chemo_favorable_risk])"
   ]
  },
  {
   "cell_type": "code",
   "execution_count": null,
   "metadata": {},
   "outputs": [],
   "source": [
    "LL_holdout_chemo_arm = favorable_risk.drop(['patient_id', 'risk_group', 'risk_score', 'RX'], axis=1)\n",
    "cph_holdout_chemo_arm = CoxPHFitter()\n",
    "cph_holdout_chemo_arm.fit(LL_holdout_chemo_arm, duration_col='time', event_col='event', show_progress=False)\n",
    "\n",
    "chemo_arm_holdout_results = cph_holdout_chemo_arm.summary\n",
    "chemo_arm_holdout_p = multivariate_logrank_test(favorable_risk['time'], favorable_risk['chemo'], favorable_risk['event']).p_value # holdout_results['p'].values[0] # change group to chemo/nochemo\n",
    "chemo_arm_holdout_hr = chemo_arm_holdout_results['exp(coef)'].values[0]\n",
    "chemo_arm_holdout_ci_lower = chemo_arm_holdout_results['exp(coef) lower 95%'].values[0]\n",
    "chemo_arm_holdout_ci_upper = chemo_arm_holdout_results['exp(coef) upper 95%'].values[0]\n",
    "chemo_arm_holdout_log_likelihood = cph_holdout_chemo_arm.log_likelihood_\n",
    "model_metrics_chemo_arm['holdout_p_value'] = [chemo_arm_holdout_p]\n",
    "model_metrics_chemo_arm['holdout_hazard_ratio'] = [chemo_arm_holdout_hr]\n",
    "model_metrics_chemo_arm['holdout_hr_ci_lower'] = [chemo_arm_holdout_ci_lower]\n",
    "model_metrics_chemo_arm['holdout_hr_ci_upper'] = [chemo_arm_holdout_ci_upper]\n",
    "model_metrics_chemo_arm['holdout_log_likelihood'] = [chemo_arm_holdout_log_likelihood]\n",
    "model_metrics_chemo_arm['holdout_parameters'] = [cph_holdout_chemo_arm.params_.shape[0]]\n",
    "\n",
    "chemo_arm_holdout_data_stats = (chemo_arm_holdout_p, chemo_arm_holdout_hr, chemo_arm_holdout_ci_lower, chemo_arm_holdout_ci_upper)"
   ]
  },
  {
   "cell_type": "code",
   "execution_count": null,
   "metadata": {},
   "outputs": [],
   "source": [
    "plot_km_same_risk_group(no_chemo_favorable_risk, chemo_favorable_risk, chemo_arm_holdout_data_stats, 'APIC_low_both_legs_km.png', \"APIC-low group RT+ADT vs RT+ADT+CT\")"
   ]
  },
  {
   "cell_type": "markdown",
   "metadata": {},
   "source": [
    "#### APIC-high RT+ADT vs RT+ADT+CT"
   ]
  },
  {
   "cell_type": "code",
   "execution_count": null,
   "metadata": {},
   "outputs": [],
   "source": [
    "chemo_bad_risk = y_holdout_chemo_arm[y_holdout_chemo_arm['risk_group'] == 1]\n",
    "no_chemo_bad_risk = y_holdout[y_holdout['risk_group'] == 1]\n",
    "chemo_bad_risk['chemo'] = 1\n",
    "no_chemo_bad_risk['chemo'] = 0\n",
    "bad_risk = pd.concat([chemo_bad_risk, no_chemo_bad_risk])"
   ]
  },
  {
   "cell_type": "code",
   "execution_count": null,
   "metadata": {},
   "outputs": [],
   "source": [
    "LL_holdout_chemo_arm = bad_risk.drop(['patient_id', 'risk_group', 'risk_score', 'RX'], axis=1)\n",
    "cph_holdout_chemo_arm = CoxPHFitter()\n",
    "cph_holdout_chemo_arm.fit(LL_holdout_chemo_arm, duration_col='time', event_col='event', show_progress=False)\n",
    "\n",
    "chemo_arm_holdout_results = cph_holdout_chemo_arm.summary\n",
    "chemo_arm_holdout_p = multivariate_logrank_test(bad_risk['time'], bad_risk['chemo'], bad_risk['event']).p_value # holdout_results['p'].values[0] # change group to chemo/nochemo\n",
    "chemo_arm_holdout_hr = chemo_arm_holdout_results['exp(coef)'].values[0]\n",
    "chemo_arm_holdout_ci_lower = chemo_arm_holdout_results['exp(coef) lower 95%'].values[0]\n",
    "chemo_arm_holdout_ci_upper = chemo_arm_holdout_results['exp(coef) upper 95%'].values[0]\n",
    "chemo_arm_holdout_log_likelihood = cph_holdout_chemo_arm.log_likelihood_\n",
    "model_metrics_chemo_arm['holdout_p_value'] = [chemo_arm_holdout_p]\n",
    "model_metrics_chemo_arm['holdout_hazard_ratio'] = [chemo_arm_holdout_hr]\n",
    "model_metrics_chemo_arm['holdout_hr_ci_lower'] = [chemo_arm_holdout_ci_lower]\n",
    "model_metrics_chemo_arm['holdout_hr_ci_upper'] = [chemo_arm_holdout_ci_upper]\n",
    "model_metrics_chemo_arm['holdout_log_likelihood'] = [chemo_arm_holdout_log_likelihood]\n",
    "model_metrics_chemo_arm['holdout_parameters'] = [cph_holdout_chemo_arm.params_.shape[0]]\n",
    "\n",
    "chemo_arm_holdout_data_stats = (chemo_arm_holdout_p, chemo_arm_holdout_hr, chemo_arm_holdout_ci_lower, chemo_arm_holdout_ci_upper)"
   ]
  },
  {
   "cell_type": "code",
   "execution_count": null,
   "metadata": {},
   "outputs": [],
   "source": [
    "plot_km_same_risk_group(no_chemo_bad_risk, chemo_bad_risk, chemo_arm_holdout_data_stats, 'APIC_high_both_legs_km.png', \"APIC High RT+ADT vs RT+ADT+CT spaTIL+NucDiv\")"
   ]
  },
  {
   "cell_type": "markdown",
   "metadata": {},
   "source": [
    "#### Interaction term analysis"
   ]
  },
  {
   "cell_type": "code",
   "execution_count": null,
   "metadata": {},
   "outputs": [],
   "source": [
    "interaction_term_test_df = pd.concat([no_chemo_bad_risk, chemo_bad_risk, no_chemo_favorable_risk, chemo_favorable_risk])\n",
    "interaction_term_test_df['interaction_term'] = interaction_term_test_df['chemo'] * interaction_term_test_df['risk_score']\n",
    "interaction_term_cox = CoxPHFitter()\n",
    "interaction_term_cox.fit(interaction_term_test_df.drop(['patient_id', 'risk_group', 'RX'], axis=1), duration_col='time', event_col='event', show_progress=False)\n",
    "interaction_term_cox_results = interaction_term_cox.summary"
   ]
  },
  {
   "cell_type": "markdown",
   "metadata": {},
   "source": [
    "#### Net benefit analysis"
   ]
  },
  {
   "cell_type": "code",
   "execution_count": null,
   "metadata": {},
   "outputs": [],
   "source": [
    "benefits = calculate_survival_benefit(no_chemo_favorable_risk, chemo_favorable_risk)\n",
    "print(\"Survival Benefits at specified time points for biomarker - patients:\", benefits)"
   ]
  },
  {
   "cell_type": "code",
   "execution_count": null,
   "metadata": {},
   "outputs": [],
   "source": [
    "benefits = calculate_survival_benefit(no_chemo_bad_risk, chemo_bad_risk)\n",
    "print(\"Survival Benefits at specified time points for biomarker + patients:\", benefits)"
   ]
  },
  {
   "cell_type": "code",
   "execution_count": null,
   "metadata": {},
   "outputs": [],
   "source": [
    "net_benefit_df = interaction_term_test_df[['event', 'time', 'risk_group']]"
   ]
  },
  {
   "cell_type": "code",
   "execution_count": null,
   "metadata": {},
   "outputs": [],
   "source": [
    "net_benefit_df"
   ]
  },
  {
   "cell_type": "code",
   "execution_count": null,
   "metadata": {},
   "outputs": [],
   "source": [
    "cox_dca = CoxPHFitter()\n",
    "cox_dca.fit(net_benefit_df, duration_col='time', event_col='event', show_progress=False)"
   ]
  },
  {
   "cell_type": "code",
   "execution_count": null,
   "metadata": {},
   "outputs": [],
   "source": [
    "cox_dca.summary"
   ]
  },
  {
   "cell_type": "code",
   "execution_count": null,
   "metadata": {},
   "outputs": [],
   "source": [
    "cph_pred_vals = cox_dca.predict_survival_function(net_benefit_df[['risk_group']], times=[10])"
   ]
  },
  {
   "cell_type": "code",
   "execution_count": null,
   "metadata": {},
   "outputs": [],
   "source": [
    "net_benefit_df['Predictive model'] = [1 - val for val in cph_pred_vals.iloc[0,:]]"
   ]
  },
  {
   "cell_type": "code",
   "execution_count": null,
   "metadata": {},
   "outputs": [],
   "source": [
    "stdca_coxph_results = dca(data=net_benefit_df, outcome='event', modelnames=['Predictive model'], thresholds=np.arange(0,0.51,0.01), time=10, time_to_outcome_col='time')\n",
    "\n",
    "plot_graphs(plot_df=stdca_coxph_results, graph_type='net_benefit', y_limits=[-0.05, 0.25], color_names=['green', 'red', 'blue'], show_grid=False, dpi=300)"
   ]
  },
  {
   "cell_type": "code",
   "execution_count": null,
   "metadata": {},
   "outputs": [],
   "source": [
    "net_benefit_df_no_chemo = interaction_term_test_df[interaction_term_test_df['chemo'] == 0]"
   ]
  },
  {
   "cell_type": "code",
   "execution_count": null,
   "metadata": {},
   "outputs": [],
   "source": [
    "net_benefit_df_no_chemo = net_benefit_df_no_chemo[['event', 'time', 'risk_group']]"
   ]
  },
  {
   "cell_type": "code",
   "execution_count": null,
   "metadata": {},
   "outputs": [],
   "source": [
    "cox_dca = CoxPHFitter()\n",
    "cox_dca.fit(net_benefit_df_no_chemo, duration_col='time', event_col='event', show_progress=False)"
   ]
  },
  {
   "cell_type": "code",
   "execution_count": null,
   "metadata": {},
   "outputs": [],
   "source": [
    "cph_pred_vals = cox_dca.predict_survival_function(net_benefit_df_no_chemo[['risk_group']], times=[10])"
   ]
  },
  {
   "cell_type": "code",
   "execution_count": null,
   "metadata": {},
   "outputs": [],
   "source": [
    "net_benefit_df_no_chemo['Predictive model'] = [1 - val for val in cph_pred_vals.iloc[0,:]]"
   ]
  },
  {
   "cell_type": "code",
   "execution_count": null,
   "metadata": {},
   "outputs": [],
   "source": [
    "stdca_coxph_results = dca(data=net_benefit_df_no_chemo, outcome='event', modelnames=['Predictive model'], thresholds=np.arange(0,0.51,0.01), time=10, time_to_outcome_col='time')\n",
    "\n",
    "plot_graphs(plot_df=stdca_coxph_results, graph_type='net_benefit', y_limits=[-0.05, 0.25], color_names=['green', 'red', 'blue'], show_grid=False, dpi=300)"
   ]
  },
  {
   "cell_type": "code",
   "execution_count": null,
   "metadata": {},
   "outputs": [],
   "source": [
    "net_benefit_df_chemo = interaction_term_test_df[interaction_term_test_df['chemo'] == 1]\n",
    "net_benefit_df_chemo = net_benefit_df_chemo[['event', 'time', 'risk_group']]\n",
    "cox_dca = CoxPHFitter()\n",
    "cox_dca.fit(net_benefit_df_chemo, duration_col='time', event_col='event', show_progress=False)\n",
    "cph_pred_vals = cox_dca.predict_survival_function(net_benefit_df_chemo[['risk_group']], times=[10])\n",
    "net_benefit_df_chemo['Predictive model'] = [1 - val for val in cph_pred_vals.iloc[0,:]]\n",
    "stdca_coxph_results = dca(data=net_benefit_df_chemo, outcome='event', modelnames=['Predictive model'], thresholds=np.arange(0,0.51,0.01), time=10, time_to_outcome_col='time')\n",
    "plot_graphs(plot_df=stdca_coxph_results, graph_type='net_benefit', y_limits=[-0.05, 0.25], color_names=['green', 'red', 'blue'], show_grid=False, dpi=300)"
   ]
  },
  {
   "cell_type": "markdown",
   "metadata": {},
   "source": [
    "#### Multivariable analysis"
   ]
  },
  {
   "cell_type": "code",
   "execution_count": null,
   "metadata": {},
   "outputs": [],
   "source": [
    "clinical_data = pd.read_csv('clinical_data.csv')"
   ]
  },
  {
   "cell_type": "code",
   "execution_count": null,
   "metadata": {},
   "outputs": [],
   "source": [
    "clinical_data = clinical_data.rename(columns={'cn_deidentified': 'patient_id'})\n",
    "clinical_data = clinical_data[['patient_id', 'age', 'race', 'gleason', 'psa', 't_stage']]\n",
    "multivar_analysis_df = interaction_term_test_df.merge(clinical_data, on='patient_id', how='left')"
   ]
  },
  {
   "cell_type": "code",
   "execution_count": null,
   "metadata": {},
   "outputs": [],
   "source": [
    "multivar_analysis_df.drop(columns=['risk_score', 'RX', 'interaction_term'], inplace=True)"
   ]
  },
  {
   "cell_type": "code",
   "execution_count": null,
   "metadata": {},
   "outputs": [],
   "source": [
    "multivar_analysis_all_patients = multivar_analysis_df.drop(columns=['chemo'], axis=1)"
   ]
  },
  {
   "cell_type": "code",
   "execution_count": null,
   "metadata": {},
   "outputs": [],
   "source": [
    "multivar_analysis_all_patients"
   ]
  },
  {
   "cell_type": "code",
   "execution_count": null,
   "metadata": {},
   "outputs": [],
   "source": [
    "multivar_analysis_all_patients.drop(columns=['age', 'race'], inplace=True)\n",
    "multivar_analysis_all_patients['t_stage'] = np.where(multivar_analysis_all_patients['t_stage'] > 7, 1, 0)"
   ]
  },
  {
   "cell_type": "code",
   "execution_count": null,
   "metadata": {},
   "outputs": [],
   "source": [
    "holdout_results, cph_holdout_adjusted_risk = get_multivariate_coxph_results(multivar_analysis_all_patients)\n",
    "plt_title = 'Risk Model controlling for clinical variables'\n",
    "save_path = ''\n",
    "plot_n_save_adjusted_hazard(cph_holdout_adjusted_risk, cph_holdout_adjusted_risk, multivar_analysis_all_patients, multivar_analysis_all_patients, save_path, plt_title)\n",
    "cph_holdout_adjusted_risk.print_summary()"
   ]
  },
  {
   "cell_type": "code",
   "execution_count": null,
   "metadata": {},
   "outputs": [],
   "source": [
    "multivar_analysis_df_only_chemo = multivar_analysis_df[multivar_analysis_df['chemo'] == 1]"
   ]
  },
  {
   "cell_type": "code",
   "execution_count": null,
   "metadata": {},
   "outputs": [],
   "source": [
    "multivar_analysis_df_only_chemo"
   ]
  },
  {
   "cell_type": "code",
   "execution_count": null,
   "metadata": {},
   "outputs": [],
   "source": [
    "multivar_analysis_df_only_chemo.drop(columns=['age', 'race', 'chemo'], inplace=True)\n",
    "multivar_analysis_df_only_chemo['t_stage'] = np.where(multivar_analysis_df_only_chemo['t_stage'] > 7, 1, 0)"
   ]
  },
  {
   "cell_type": "code",
   "execution_count": null,
   "metadata": {},
   "outputs": [],
   "source": [
    "holdout_results, cph_holdout_adjusted_risk = get_multivariate_coxph_results(multivar_analysis_df_only_chemo)\n",
    "plt_title = 'Risk Model controlling for clinical variables (CT arm)'\n",
    "save_path = ''\n",
    "plot_n_save_adjusted_hazard(cph_holdout_adjusted_risk, cph_holdout_adjusted_risk, multivar_analysis_df_only_chemo, multivar_analysis_df_only_chemo, save_path, plt_title)\n",
    "cph_holdout_adjusted_risk.print_summary()"
   ]
  },
  {
   "cell_type": "code",
   "execution_count": null,
   "metadata": {},
   "outputs": [],
   "source": [
    "multivar_analysis_df_no_chemo = multivar_analysis_df[multivar_analysis_df['chemo'] == 0]\n",
    "multivar_analysis_df_no_chemo.drop(columns=['age', 'race', 'chemo'], inplace=True)\n",
    "multivar_analysis_df_no_chemo['t_stage'] = np.where(multivar_analysis_df_no_chemo['t_stage'] > 7, 1, 0)"
   ]
  },
  {
   "cell_type": "code",
   "execution_count": null,
   "metadata": {},
   "outputs": [],
   "source": [
    "holdout_results, cph_holdout_adjusted_risk = get_multivariate_coxph_results(multivar_analysis_df_no_chemo)\n",
    "plt_title = 'Risk Model controlling for clinical variables (RT+ADT arm)'\n",
    "save_path = ''\n",
    "plot_n_save_adjusted_hazard(cph_holdout_adjusted_risk, cph_holdout_adjusted_risk, multivar_analysis_df_no_chemo, multivar_analysis_df_no_chemo, save_path, plt_title)\n",
    "cph_holdout_adjusted_risk.print_summary()"
   ]
  },
  {
   "cell_type": "code",
   "execution_count": null,
   "metadata": {},
   "outputs": [],
   "source": [
    "results = {}\n",
    "variables = ['risk_group','psa', 't_stage', 'gleason']\n",
    "cph = CoxPHFitter()\n",
    "for var in variables:\n",
    "\n",
    "    cph.fit(multivar_analysis_all_patients[[var, 'time', 'event']], duration_col='time', event_col='event')\n",
    "    \n",
    "    # Extract the HR and its confidence intervals for the variable\n",
    "    cph_model_results = cph.summary\n",
    "    p = cph_model_results['p'].values[0]\n",
    "    hr = cph_model_results['exp(coef)'].values[0]\n",
    "    ci_lower = cph_model_results['exp(coef) lower 95%'].values[0]\n",
    "    ci_upper = cph_model_results['exp(coef) upper 95%'].values[0]\n",
    "    # Store the results\n",
    "    results[var] = {'HR': hr, '95% CI Lower': ci_lower, '95% CI Upper': ci_upper, 'p': p}\n",
    "\n",
    "# Display the results\n",
    "print(\"Univariate analysis all patients\")\n",
    "for var, stats in results.items():\n",
    "    print(f\"{var}: HR = {stats['HR']:.4f}, 95% CI = ({stats['95% CI Lower']:.4f}, {stats['95% CI Upper']:.4f}), p = {stats['p']:.6f}\")"
   ]
  },
  {
   "cell_type": "code",
   "execution_count": null,
   "metadata": {},
   "outputs": [],
   "source": [
    "results = {}\n",
    "variables = ['risk_group','psa', 't_stage', 'gleason']\n",
    "cph = CoxPHFitter()\n",
    "for var in variables:\n",
    "\n",
    "    cph.fit(multivar_analysis_df_only_chemo[[var, 'time', 'event']], duration_col='time', event_col='event')\n",
    "    \n",
    "    # Extract the HR and its confidence intervals for the variable\n",
    "    cph_model_results = cph.summary\n",
    "    p = cph_model_results['p'].values[0]\n",
    "    hr = cph_model_results['exp(coef)'].values[0]\n",
    "    ci_lower = cph_model_results['exp(coef) lower 95%'].values[0]\n",
    "    ci_upper = cph_model_results['exp(coef) upper 95%'].values[0]\n",
    "    # Store the results\n",
    "    results[var] = {'HR': hr, '95% CI Lower': ci_lower, '95% CI Upper': ci_upper, 'p': p}\n",
    "\n",
    "# Display the results\n",
    "print(\"Univariate analysis CT patients\")\n",
    "for var, stats in results.items():\n",
    "    print(f\"{var}: HR = {stats['HR']:.4f}, 95% CI = ({stats['95% CI Lower']:.4f}, {stats['95% CI Upper']:.4f}), p = {stats['p']:.6f}\")"
   ]
  },
  {
   "cell_type": "code",
   "execution_count": null,
   "metadata": {},
   "outputs": [],
   "source": [
    "results = {}\n",
    "variables = ['risk_group','psa', 't_stage', 'gleason']\n",
    "cph = CoxPHFitter()\n",
    "for var in variables:\n",
    "\n",
    "    cph.fit(multivar_analysis_df_no_chemo[[var, 'time', 'event']], duration_col='time', event_col='event')\n",
    "    \n",
    "    # Extract the HR and its confidence intervals for the variable\n",
    "    cph_model_results = cph.summary\n",
    "    p = cph_model_results['p'].values[0]\n",
    "    hr = cph_model_results['exp(coef)'].values[0]\n",
    "    ci_lower = cph_model_results['exp(coef) lower 95%'].values[0]\n",
    "    ci_upper = cph_model_results['exp(coef) upper 95%'].values[0]\n",
    "    # Store the results\n",
    "    results[var] = {'HR': hr, '95% CI Lower': ci_lower, '95% CI Upper': ci_upper, 'p': p}\n",
    "\n",
    "# Display the results\n",
    "print(\"Univariate analysis no CT patients\")\n",
    "for var, stats in results.items():\n",
    "    print(f\"{var}: HR = {stats['HR']:.4f}, 95% CI = ({stats['95% CI Lower']:.4f}, {stats['95% CI Upper']:.4f}), p = {stats['p']:.6f}\")"
   ]
  }
 ],
 "metadata": {
  "kernelspec": {
   "display_name": "torch",
   "language": "python",
   "name": "python3"
  },
  "language_info": {
   "codemirror_mode": {
    "name": "ipython",
    "version": 3
   },
   "file_extension": ".py",
   "mimetype": "text/x-python",
   "name": "python",
   "nbconvert_exporter": "python",
   "pygments_lexer": "ipython3",
   "version": "3.10.12"
  }
 },
 "nbformat": 4,
 "nbformat_minor": 2
}
